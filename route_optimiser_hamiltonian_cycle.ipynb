{
 "cells": [
  {
   "cell_type": "code",
   "execution_count": 1,
   "metadata": {},
   "outputs": [
    {
     "name": "stdout",
     "output_type": "stream",
     "text": [
      "Defaulting to user installation because normal site-packages is not writeable\n",
      "Requirement already satisfied: pulp in /home/veleref/.local/lib/python3.10/site-packages (2.8.0)\n"
     ]
    }
   ],
   "source": [
    "!pip install pulp"
   ]
  },
  {
   "cell_type": "code",
   "execution_count": 2,
   "metadata": {},
   "outputs": [],
   "source": [
    "import random\n",
    "from itertools import permutations\n",
    "from pulp import LpProblem, LpVariable, LpStatus, LpMinimize, lpSum\n",
    "from typing import Dict, List, Tuple\n",
    "from pulp import GLPK_CMD\n",
    "\n",
    "def generate_dummy_data(n_pois: int, n_days: int) -> tuple:\n",
    "    \"\"\"\n",
    "    Generate dummy data for the itinerary optimization problem.\n",
    "\n",
    "    Parameters:\n",
    "    - n_pois: The number of points of interest (POIs).\n",
    "    - n_days: The number of days.\n",
    "\n",
    "    Returns:\n",
    "    - pois: A list of POI names.\n",
    "    - days: A list of day identifiers.\n",
    "    - travel_time: A dictionary with travel times between each pair of POIs.\n",
    "    \"\"\"\n",
    "    pois = [f'poi_{i}' for i in range(n_pois)]\n",
    "    days = [f'D{day}' for day in range(1, n_days + 1)]\n",
    "    travel_time = {(poi1, poi2): random.randint(10, 60) for poi1, poi2 in permutations(pois, 2)}\n",
    "    return pois, days, travel_time"
   ]
  },
  {
   "cell_type": "code",
   "execution_count": null,
   "metadata": {},
   "outputs": [],
   "source": [
    "# Initialize data\n",
    "n_pois = 5  # Number of POIs\n",
    "n_days = 2  # Number of days\n",
    "pois, days, travel_time = generate_dummy_data(n_pois, n_days)"
   ]
  },
  {
   "cell_type": "code",
   "execution_count": 3,
   "metadata": {},
   "outputs": [
    {
     "name": "stdout",
     "output_type": "stream",
     "text": [
      "Solution Found:\n",
      "\n",
      "('poi_0', 'poi_2', 'D2') = 1\n",
      "('poi_1', 'poi_4', 'D1') = 1\n",
      "('poi_2', 'poi_0', 'D2') = 1\n",
      "('poi_3', 'poi_1', 'D1') = 1\n",
      "('poi_4', 'poi_3', 'D1') = 1\n"
     ]
    }
   ],
   "source": [
    "# Initialize the problem\n",
    "problem = LpProblem(\"Itinerary_Optimization\", LpMinimize)\n",
    "\n",
    "# Variables\n",
    "order_vars = {\n",
    "    (poi1, poi2, day): LpVariable(f\"order_{poi1}_{poi2}_{day}\", cat=\"Binary\")\n",
    "    for poi1 in pois for poi2 in pois for day in days if poi1 != poi2\n",
    "}\n",
    "\n",
    "# Objective function: Minimize the total travel time\n",
    "problem += lpSum(\n",
    "    travel_time[(poi_from, poi_to)] * order_vars[(poi_from, poi_to, day)]\n",
    "    for poi_from, poi_to in permutations(pois, 2) for day in days\n",
    ")\n",
    "\n",
    "# Constraints\n",
    "\n",
    "# Each POI visited exactly once across all days\n",
    "for poi in pois:\n",
    "    problem += lpSum(\n",
    "        order_vars[(poi, other_poi, day)] + order_vars[(other_poi, poi, day)]\n",
    "        for day in days for other_poi in pois if poi != other_poi\n",
    "    ) == 2, f\"enter_and_exit_{poi}\"\n",
    "\n",
    "# Ensure entering and exiting each POI occurs within the same day\n",
    "for day in days:\n",
    "    for poi in pois:\n",
    "        problem += lpSum(\n",
    "            order_vars[(poi, other_poi, day)]\n",
    "            for other_poi in pois if poi != other_poi\n",
    "        ) == lpSum(\n",
    "            order_vars[(other_poi, poi, day)]\n",
    "            for other_poi in pois if poi != other_poi\n",
    "        ), f\"same_day_visit_{poi}_{day}\"\n",
    "\n",
    "# Constraint: Ensure each day has at least 2 POI visited\n",
    "for day in days:\n",
    "    problem += lpSum(\n",
    "        order_vars[(poi1, poi2, day)]\n",
    "        for poi1 in pois for poi2 in pois if poi1 != poi2\n",
    "    ) >= 2, f\"at_least_one_poi_{day}\"\n",
    "\n",
    "# Constraint: Ensure that these 2 POIs are not visited on the same day\n",
    "not_same_day_pois = pois[1:3]\n",
    "for day in days:\n",
    "    problem += lpSum(\n",
    "        order_vars[(poi, other_poi, day)]\n",
    "        for poi in not_same_day_pois for other_poi in pois if poi != other_poi\n",
    "    ) <= 2, f\"not_same_day_pois_{day}\"\n",
    "    problem += lpSum(\n",
    "        order_vars[(poi, other_poi, day)]\n",
    "        for poi in not_same_day_pois for other_poi in not_same_day_pois if poi != other_poi\n",
    "    ) == 0, f\"not_consec_pois_{day}\"\n",
    "\n",
    "# problem\n",
    "# Solve the problem\n",
    "status = problem.solve(GLPK_CMD(msg=0))\n",
    "\n",
    "# Check the status and print the results\n",
    "if LpStatus[status] == 'Optimal':\n",
    "    print(\"Solution Found:\\n\")\n",
    "    results = []\n",
    "    for var in order_vars:\n",
    "        if order_vars[var].varValue == 1:\n",
    "            results.append(var)\n",
    "            print(f\"{var} = {order_vars[var].varValue}\")\n",
    "else:\n",
    "    print(\"No optimal solution found.\")\n"
   ]
  }
 ],
 "metadata": {
  "kernelspec": {
   "display_name": "Python 3",
   "language": "python",
   "name": "python3"
  },
  "language_info": {
   "codemirror_mode": {
    "name": "ipython",
    "version": 3
   },
   "file_extension": ".py",
   "mimetype": "text/x-python",
   "name": "python",
   "nbconvert_exporter": "python",
   "pygments_lexer": "ipython3",
   "version": "3.10.12"
  }
 },
 "nbformat": 4,
 "nbformat_minor": 2
}
