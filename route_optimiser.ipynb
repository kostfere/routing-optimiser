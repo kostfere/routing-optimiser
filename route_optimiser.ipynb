{
 "cells": [
  {
   "cell_type": "code",
   "execution_count": 1,
   "metadata": {},
   "outputs": [],
   "source": [
    "import random\n",
    "from itertools import permutations\n",
    "from pulp import LpProblem, LpVariable, LpStatus, LpMinimize, lpSum\n",
    "\n",
    "def generate_dummy_data(n_pois: int, n_days: int) -> tuple:\n",
    "    \"\"\"\n",
    "    Generate dummy data for the itinerary optimization problem.\n",
    "\n",
    "    Parameters:\n",
    "    - n_pois: The number of points of interest (POIs).\n",
    "    - n_days: The number of days.\n",
    "\n",
    "    Returns:\n",
    "    - pois: A list of POI names.\n",
    "    - days: A list of day identifiers.\n",
    "    - travel_time: A dictionary with travel times between each pair of POIs.\n",
    "    \"\"\"\n",
    "    pois = [f'poi_{i}' for i in range(n_pois)]\n",
    "    days = [f'D{day}' for day in range(1, n_days + 1)]\n",
    "    travel_time = {(poi1, poi2): random.randint(10, 60) for poi1, poi2 in permutations(pois, 2)}\n",
    "    return pois, days, travel_time\n",
    "\n",
    "\n"
   ]
  },
  {
   "cell_type": "code",
   "execution_count": 12,
   "metadata": {},
   "outputs": [],
   "source": [
    "from typing import Dict, List, Tuple\n",
    "\\\n",
    "def extract_itinerary(nodes):\n",
    "    # Step 1: Group nodes by day\n",
    "    day_edges = {}\n",
    "    for node in nodes:\n",
    "        poi1, poi2, day = node\n",
    "        if day not in day_edges:\n",
    "            day_edges[day] = []\n",
    "        day_edges[day].append((poi1, poi2))\n",
    "    \n",
    "    itineraries = {}\n",
    "    # Step 2: Construct the graph for each day and find the path\n",
    "    for day, edges in day_edges.items():\n",
    "        graph = {}\n",
    "        in_degree = {}  # Track incoming edges\n",
    "        for poi1, poi2 in edges:\n",
    "            graph[poi1] = poi2\n",
    "            # Update in_degree counts\n",
    "            in_degree[poi2] = in_degree.get(poi2, 0) + 1\n",
    "            if poi1 not in in_degree:\n",
    "                in_degree[poi1] = 0\n",
    "        \n",
    "        # Step 3: Find the starting POI (no incoming edges) and construct the itinerary\n",
    "        start_poi = None\n",
    "        for poi, in_deg in in_degree.items():\n",
    "            if in_deg == 0:\n",
    "                start_poi = poi\n",
    "                break\n",
    "        \n",
    "        itinerary = [start_poi]\n",
    "        while start_poi in graph:\n",
    "            next_poi = graph[start_poi]\n",
    "            itinerary.append(next_poi)\n",
    "            start_poi = next_poi\n",
    "        \n",
    "        itineraries[day] = itinerary\n",
    "    \n",
    "    return itineraries"
   ]
  },
  {
   "cell_type": "code",
   "execution_count": 8,
   "metadata": {},
   "outputs": [
    {
     "name": "stdout",
     "output_type": "stream",
     "text": [
      "GLPSOL--GLPK LP/MIP Solver 5.0\n",
      "Parameter(s) specified in the command line:\n",
      " --cpxlp /tmp/be1189ebd02a4471bddd05bd14413527-pulp.lp -o /tmp/be1189ebd02a4471bddd05bd14413527-pulp.sol\n",
      "Reading problem data from '/tmp/be1189ebd02a4471bddd05bd14413527-pulp.lp'...\n",
      "94 rows, 840 columns, 4200 non-zeros\n",
      "840 integer variables, all of which are binary\n",
      "2660 lines were read\n",
      "GLPK Integer Optimizer 5.0\n",
      "94 rows, 840 columns, 4200 non-zeros\n",
      "840 integer variables, all of which are binary\n",
      "Preprocessing...\n",
      "94 rows, 840 columns, 4200 non-zeros\n",
      "840 integer variables, all of which are binary\n",
      "Scaling...\n",
      " A: min|aij| =  1.000e+00  max|aij| =  1.000e+00  ratio =  1.000e+00\n",
      "Problem data seem to be well scaled\n",
      "Constructing initial basis...\n",
      "Size of triangular part is 74\n",
      "Solving LP relaxation...\n",
      "GLPK Simplex Optimizer 5.0\n",
      "94 rows, 840 columns, 4200 non-zeros\n",
      "      0: obj =   4.970000000e+02 inf =   7.000e+01 (8)\n",
      "     70: obj =   5.075000000e+02 inf =   0.000e+00 (0)\n",
      "*   210: obj =   2.380000000e+02 inf =   1.703e-14 (0) 1\n",
      "OPTIMAL LP SOLUTION FOUND\n",
      "Integer optimization begins...\n",
      "Long-step dual simplex will be used\n",
      "+   210: mip =     not found yet >=              -inf        (1; 0)\n",
      "+   432: >>>>>   2.680000000e+02 >=   2.380000000e+02  11.2% (28; 0)\n",
      "+   874: >>>>>   2.620000000e+02 >=   2.400000000e+02   8.4% (68; 6)\n",
      "Solution found by heuristic: 260\n",
      "+  1205: >>>>>   2.500000000e+02 >=   2.400000000e+02   4.0% (86; 26)\n",
      "Solution found by heuristic: 247\n",
      "+  4591: mip =   2.470000000e+02 >=     tree is empty   0.0% (0; 569)\n",
      "INTEGER OPTIMAL SOLUTION FOUND\n",
      "Time used:   0.3 secs\n",
      "Memory used: 1.8 Mb (1913180 bytes)\n",
      "Writing MIP solution to '/tmp/be1189ebd02a4471bddd05bd14413527-pulp.sol'...\n",
      "Solution Found:\n",
      "\n",
      "('poi_0', 'poi_5', 'D2') = 1\n",
      "('poi_1', 'poi_14', 'D3') = 1\n",
      "('poi_2', 'poi_9', 'D1') = 1\n",
      "('poi_3', 'poi_0', 'D2') = 1\n",
      "('poi_4', 'poi_2', 'D1') = 1\n",
      "('poi_5', 'poi_3', 'D2') = 1\n",
      "('poi_6', 'poi_1', 'D3') = 1\n",
      "('poi_7', 'poi_4', 'D1') = 1\n",
      "('poi_8', 'poi_11', 'D4') = 1\n",
      "('poi_9', 'poi_13', 'D1') = 1\n",
      "('poi_10', 'poi_7', 'D1') = 1\n",
      "('poi_11', 'poi_8', 'D4') = 1\n",
      "('poi_12', 'poi_6', 'D3') = 1\n",
      "('poi_13', 'poi_10', 'D1') = 1\n",
      "('poi_14', 'poi_12', 'D3') = 1\n"
     ]
    }
   ],
   "source": [
    "# Initialize data\n",
    "n_pois = 15  # Number of POIs\n",
    "n_days = 4  # Number of days\n",
    "pois, days, travel_time = generate_dummy_data(n_pois, n_days)\n",
    "\n",
    "# Initialize the problem\n",
    "problem = LpProblem(\"Itinerary_Optimization\", LpMinimize)\n",
    "\n",
    "# Variables\n",
    "order_vars = {(poi1, poi2, day): LpVariable(f\"order_{poi1}_{poi2}_{day}\", cat=\"Binary\")\n",
    "              for poi1 in pois for poi2 in pois for day in days if poi1 != poi2}\n",
    "\n",
    "# Objective function: Minimize the total travel time\n",
    "problem += lpSum(travel_time[(poi_from, poi_to)] * order_vars[(poi_from, poi_to, day)]\n",
    "                 for poi_from, poi_to in permutations(pois, 2) for day in days)\n",
    "\n",
    "# Constraints\n",
    "\n",
    "# Each POI visited exactly once across all days\n",
    "for poi in pois:\n",
    "    problem += lpSum(order_vars[(poi, other_poi, day)] for day in days for other_poi in pois if poi != other_poi) == 1, f\"enter_{poi}\"\n",
    "    problem += lpSum(order_vars[(other_poi, poi, day)] for day in days for other_poi in pois if poi != other_poi) == 1, f\"exit_{poi}\"\n",
    "\n",
    "# Ensure entering and exiting each POI occurs within the same day\n",
    "for day in days:\n",
    "    for poi in pois:\n",
    "        problem += lpSum(order_vars[(poi, other_poi, day)] for other_poi in pois if poi != other_poi) == \\\n",
    "                   lpSum(order_vars[(other_poi, poi, day)] for other_poi in pois if poi != other_poi), f\"same_day_visit_{poi}_{day}\"\n",
    "\n",
    "# New Constraint: Ensure each day has at least one POI visited\n",
    "for day in days:\n",
    "    problem += lpSum(order_vars[(poi1, poi2, day)] for poi1 in pois for poi2 in pois if poi1 != poi2) >= 2, f\"at_least_one_poi_{day}\"\n",
    "from pulp import GLPK_CMD\n",
    "\n",
    "# Solve the problem\n",
    "status = problem.solve(GLPK_CMD())\n",
    "\n",
    "# Check the status and print the results\n",
    "if LpStatus[status] == 'Optimal':\n",
    "    print(\"Solution Found:\\n\")\n",
    "    results = []\n",
    "    for var in order_vars:\n",
    "        if order_vars[var].varValue == 1:\n",
    "            results.append(var)\n",
    "            print(f\"{var} = {order_vars[var].varValue}\")\n",
    "else:\n",
    "    print(\"No optimal solution found.\")\n"
   ]
  },
  {
   "cell_type": "code",
   "execution_count": 33,
   "metadata": {},
   "outputs": [
    {
     "name": "stdout",
     "output_type": "stream",
     "text": [
      "GLPK_CMD\n",
      "PULP_CBC_CMD\n"
     ]
    }
   ],
   "source": [
    "import pulp\n",
    "\n",
    "# List available solvers\n",
    "for solver in pulp.listSolvers(onlyAvailable=True):\n",
    "    print(solver)\n"
   ]
  },
  {
   "cell_type": "code",
   "execution_count": null,
   "metadata": {},
   "outputs": [],
   "source": []
  },
  {
   "cell_type": "code",
   "execution_count": 24,
   "metadata": {},
   "outputs": [
    {
     "data": {
      "text/plain": [
       "[('poi_0', 'poi_5', 'D2'),\n",
       " ('poi_1', 'poi_4', 'D1'),\n",
       " ('poi_2', 'poi_3', 'D1'),\n",
       " ('poi_3', 'poi_1', 'D1'),\n",
       " ('poi_4', 'poi_2', 'D1'),\n",
       " ('poi_5', 'poi_6', 'D2'),\n",
       " ('poi_6', 'poi_0', 'D2')]"
      ]
     },
     "execution_count": 24,
     "metadata": {},
     "output_type": "execute_result"
    }
   ],
   "source": [
    "results"
   ]
  }
 ],
 "metadata": {
  "kernelspec": {
   "display_name": "Python 3",
   "language": "python",
   "name": "python3"
  },
  "language_info": {
   "codemirror_mode": {
    "name": "ipython",
    "version": 3
   },
   "file_extension": ".py",
   "mimetype": "text/x-python",
   "name": "python",
   "nbconvert_exporter": "python",
   "pygments_lexer": "ipython3",
   "version": "3.10.12"
  }
 },
 "nbformat": 4,
 "nbformat_minor": 2
}
