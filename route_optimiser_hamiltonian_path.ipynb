{
 "cells": [
  {
   "cell_type": "code",
   "execution_count": 1,
   "metadata": {},
   "outputs": [
    {
     "name": "stdout",
     "output_type": "stream",
     "text": [
      "Defaulting to user installation because normal site-packages is not writeable\n",
      "Requirement already satisfied: pulp in /home/veleref/.local/lib/python3.10/site-packages (2.8.0)\n"
     ]
    }
   ],
   "source": [
    "!pip install pulp"
   ]
  },
  {
   "cell_type": "code",
   "execution_count": 2,
   "metadata": {},
   "outputs": [],
   "source": [
    "import random\n",
    "from itertools import permutations\n",
    "from pulp import LpProblem, LpVariable, LpStatus, LpMinimize, lpSum\n",
    "from typing import Dict, List, Tuple\n",
    "from pulp import GLPK_CMD\n",
    "\n",
    "def generate_dummy_data(n_pois: int, n_days: int) -> tuple:\n",
    "    \"\"\"\n",
    "    Generate dummy data for the itinerary optimization problem.\n",
    "\n",
    "    Parameters:\n",
    "    - n_pois: The number of points of interest (POIs).\n",
    "    - n_days: The number of days.\n",
    "\n",
    "    Returns:\n",
    "    - pois: A list of POI names.\n",
    "    - days: A list of day identifiers.\n",
    "    - travel_time: A dictionary with travel times between each pair of POIs.\n",
    "    \"\"\"\n",
    "    pois = [f'poi_{i}' for i in range(n_pois)]\n",
    "    days = [f'D{day}' for day in range(1, n_days + 1)]\n",
    "    travel_time = {(poi1, poi2): random.randint(10, 60) for poi1, poi2 in permutations(pois, 2)}\n",
    "    return pois, days, travel_time"
   ]
  },
  {
   "cell_type": "code",
   "execution_count": null,
   "metadata": {},
   "outputs": [],
   "source": [
    "# Initialize data\n",
    "n_pois = 100  # Number of POIs\n",
    "n_days = 20  # Number of days\n",
    "pois, days, travel_time = generate_dummy_data(n_pois, n_days)"
   ]
  },
  {
   "cell_type": "code",
   "execution_count": 3,
   "metadata": {},
   "outputs": [
    {
     "ename": "KeyboardInterrupt",
     "evalue": "",
     "output_type": "error",
     "traceback": [
      "\u001b[0;31m---------------------------------------------------------------------------\u001b[0m",
      "\u001b[0;31mKeyboardInterrupt\u001b[0m                         Traceback (most recent call last)",
      "Cell \u001b[0;32mIn[3], line 61\u001b[0m\n\u001b[1;32m     50\u001b[0m         problem \u001b[38;5;241m+\u001b[39m\u001b[38;5;241m=\u001b[39m lpSum(\n\u001b[1;32m     51\u001b[0m             order_vars[(poi, other_poi, day)]\n\u001b[1;32m     52\u001b[0m             \u001b[38;5;28;01mfor\u001b[39;00m other_poi \u001b[38;5;129;01min\u001b[39;00m pois \u001b[38;5;241m+\u001b[39m [\u001b[38;5;124m'\u001b[39m\u001b[38;5;124mnonce_node\u001b[39m\u001b[38;5;124m'\u001b[39m] \u001b[38;5;28;01mif\u001b[39;00m poi \u001b[38;5;241m!=\u001b[39m other_poi\n\u001b[0;32m   (...)\u001b[0m\n\u001b[1;32m     55\u001b[0m             \u001b[38;5;28;01mfor\u001b[39;00m other_poi \u001b[38;5;129;01min\u001b[39;00m pois \u001b[38;5;241m+\u001b[39m [\u001b[38;5;124m'\u001b[39m\u001b[38;5;124mnonce_node\u001b[39m\u001b[38;5;124m'\u001b[39m] \u001b[38;5;28;01mif\u001b[39;00m poi \u001b[38;5;241m!=\u001b[39m other_poi\n\u001b[1;32m     56\u001b[0m         ), \u001b[38;5;124mf\u001b[39m\u001b[38;5;124m\"\u001b[39m\u001b[38;5;124msame_day_visit_\u001b[39m\u001b[38;5;132;01m{\u001b[39;00mpoi\u001b[38;5;132;01m}\u001b[39;00m\u001b[38;5;124m_\u001b[39m\u001b[38;5;132;01m{\u001b[39;00mday\u001b[38;5;132;01m}\u001b[39;00m\u001b[38;5;124m\"\u001b[39m\n\u001b[1;32m     59\u001b[0m \u001b[38;5;66;03m# problem\u001b[39;00m\n\u001b[1;32m     60\u001b[0m \u001b[38;5;66;03m# Solve the problem\u001b[39;00m\n\u001b[0;32m---> 61\u001b[0m status \u001b[38;5;241m=\u001b[39m \u001b[43mproblem\u001b[49m\u001b[38;5;241;43m.\u001b[39;49m\u001b[43msolve\u001b[49m\u001b[43m(\u001b[49m\u001b[43mGLPK_CMD\u001b[49m\u001b[43m(\u001b[49m\u001b[43mmsg\u001b[49m\u001b[38;5;241;43m=\u001b[39;49m\u001b[38;5;241;43m0\u001b[39;49m\u001b[43m)\u001b[49m\u001b[43m)\u001b[49m\n\u001b[1;32m     63\u001b[0m \u001b[38;5;66;03m# Check the status and print the results\u001b[39;00m\n\u001b[1;32m     64\u001b[0m \u001b[38;5;28;01mif\u001b[39;00m LpStatus[status] \u001b[38;5;241m==\u001b[39m \u001b[38;5;124m'\u001b[39m\u001b[38;5;124mOptimal\u001b[39m\u001b[38;5;124m'\u001b[39m:\n",
      "File \u001b[0;32m~/.local/lib/python3.10/site-packages/pulp/pulp.py:1883\u001b[0m, in \u001b[0;36mLpProblem.solve\u001b[0;34m(self, solver, **kwargs)\u001b[0m\n\u001b[1;32m   1881\u001b[0m \u001b[38;5;66;03m# time it\u001b[39;00m\n\u001b[1;32m   1882\u001b[0m \u001b[38;5;28mself\u001b[39m\u001b[38;5;241m.\u001b[39mstartClock()\n\u001b[0;32m-> 1883\u001b[0m status \u001b[38;5;241m=\u001b[39m \u001b[43msolver\u001b[49m\u001b[38;5;241;43m.\u001b[39;49m\u001b[43mactualSolve\u001b[49m\u001b[43m(\u001b[49m\u001b[38;5;28;43mself\u001b[39;49m\u001b[43m,\u001b[49m\u001b[43m \u001b[49m\u001b[38;5;241;43m*\u001b[39;49m\u001b[38;5;241;43m*\u001b[39;49m\u001b[43mkwargs\u001b[49m\u001b[43m)\u001b[49m\n\u001b[1;32m   1884\u001b[0m \u001b[38;5;28mself\u001b[39m\u001b[38;5;241m.\u001b[39mstopClock()\n\u001b[1;32m   1885\u001b[0m \u001b[38;5;28mself\u001b[39m\u001b[38;5;241m.\u001b[39mrestoreObjective(wasNone, dummyVar)\n",
      "File \u001b[0;32m~/.local/lib/python3.10/site-packages/pulp/apis/glpk_api.py:97\u001b[0m, in \u001b[0;36mGLPK_CMD.actualSolve\u001b[0;34m(self, lp)\u001b[0m\n\u001b[1;32m     93\u001b[0m     rc \u001b[38;5;241m=\u001b[39m subprocess\u001b[38;5;241m.\u001b[39mcall(\n\u001b[1;32m     94\u001b[0m         proc, stdout\u001b[38;5;241m=\u001b[39mpipe, stderr\u001b[38;5;241m=\u001b[39mpipe, startupinfo\u001b[38;5;241m=\u001b[39mstartupinfo\n\u001b[1;32m     95\u001b[0m     )\n\u001b[1;32m     96\u001b[0m \u001b[38;5;28;01melse\u001b[39;00m:\n\u001b[0;32m---> 97\u001b[0m     rc \u001b[38;5;241m=\u001b[39m \u001b[43msubprocess\u001b[49m\u001b[38;5;241;43m.\u001b[39;49m\u001b[43mcall\u001b[49m\u001b[43m(\u001b[49m\u001b[43mproc\u001b[49m\u001b[43m,\u001b[49m\u001b[43m \u001b[49m\u001b[43mstdout\u001b[49m\u001b[38;5;241;43m=\u001b[39;49m\u001b[43mpipe\u001b[49m\u001b[43m,\u001b[49m\u001b[43m \u001b[49m\u001b[43mstderr\u001b[49m\u001b[38;5;241;43m=\u001b[39;49m\u001b[43mpipe\u001b[49m\u001b[43m)\u001b[49m\n\u001b[1;32m     98\u001b[0m \u001b[38;5;28;01mif\u001b[39;00m rc:\n\u001b[1;32m     99\u001b[0m     \u001b[38;5;28;01mraise\u001b[39;00m PulpSolverError(\n\u001b[1;32m    100\u001b[0m         \u001b[38;5;124m\"\u001b[39m\u001b[38;5;124mPuLP: Error while trying to execute \u001b[39m\u001b[38;5;124m\"\u001b[39m \u001b[38;5;241m+\u001b[39m \u001b[38;5;28mself\u001b[39m\u001b[38;5;241m.\u001b[39mpath\n\u001b[1;32m    101\u001b[0m     )\n",
      "File \u001b[0;32m/usr/lib/python3.10/subprocess.py:347\u001b[0m, in \u001b[0;36mcall\u001b[0;34m(timeout, *popenargs, **kwargs)\u001b[0m\n\u001b[1;32m    345\u001b[0m \u001b[38;5;28;01mwith\u001b[39;00m Popen(\u001b[38;5;241m*\u001b[39mpopenargs, \u001b[38;5;241m*\u001b[39m\u001b[38;5;241m*\u001b[39mkwargs) \u001b[38;5;28;01mas\u001b[39;00m p:\n\u001b[1;32m    346\u001b[0m     \u001b[38;5;28;01mtry\u001b[39;00m:\n\u001b[0;32m--> 347\u001b[0m         \u001b[38;5;28;01mreturn\u001b[39;00m \u001b[43mp\u001b[49m\u001b[38;5;241;43m.\u001b[39;49m\u001b[43mwait\u001b[49m\u001b[43m(\u001b[49m\u001b[43mtimeout\u001b[49m\u001b[38;5;241;43m=\u001b[39;49m\u001b[43mtimeout\u001b[49m\u001b[43m)\u001b[49m\n\u001b[1;32m    348\u001b[0m     \u001b[38;5;28;01mexcept\u001b[39;00m:  \u001b[38;5;66;03m# Including KeyboardInterrupt, wait handled that.\u001b[39;00m\n\u001b[1;32m    349\u001b[0m         p\u001b[38;5;241m.\u001b[39mkill()\n",
      "File \u001b[0;32m/usr/lib/python3.10/subprocess.py:1209\u001b[0m, in \u001b[0;36mPopen.wait\u001b[0;34m(self, timeout)\u001b[0m\n\u001b[1;32m   1207\u001b[0m     endtime \u001b[38;5;241m=\u001b[39m _time() \u001b[38;5;241m+\u001b[39m timeout\n\u001b[1;32m   1208\u001b[0m \u001b[38;5;28;01mtry\u001b[39;00m:\n\u001b[0;32m-> 1209\u001b[0m     \u001b[38;5;28;01mreturn\u001b[39;00m \u001b[38;5;28;43mself\u001b[39;49m\u001b[38;5;241;43m.\u001b[39;49m\u001b[43m_wait\u001b[49m\u001b[43m(\u001b[49m\u001b[43mtimeout\u001b[49m\u001b[38;5;241;43m=\u001b[39;49m\u001b[43mtimeout\u001b[49m\u001b[43m)\u001b[49m\n\u001b[1;32m   1210\u001b[0m \u001b[38;5;28;01mexcept\u001b[39;00m \u001b[38;5;167;01mKeyboardInterrupt\u001b[39;00m:\n\u001b[1;32m   1211\u001b[0m     \u001b[38;5;66;03m# https://bugs.python.org/issue25942\u001b[39;00m\n\u001b[1;32m   1212\u001b[0m     \u001b[38;5;66;03m# The first keyboard interrupt waits briefly for the child to\u001b[39;00m\n\u001b[1;32m   1213\u001b[0m     \u001b[38;5;66;03m# exit under the common assumption that it also received the ^C\u001b[39;00m\n\u001b[1;32m   1214\u001b[0m     \u001b[38;5;66;03m# generated SIGINT and will exit rapidly.\u001b[39;00m\n\u001b[1;32m   1215\u001b[0m     \u001b[38;5;28;01mif\u001b[39;00m timeout \u001b[38;5;129;01mis\u001b[39;00m \u001b[38;5;129;01mnot\u001b[39;00m \u001b[38;5;28;01mNone\u001b[39;00m:\n",
      "File \u001b[0;32m/usr/lib/python3.10/subprocess.py:1959\u001b[0m, in \u001b[0;36mPopen._wait\u001b[0;34m(self, timeout)\u001b[0m\n\u001b[1;32m   1957\u001b[0m \u001b[38;5;28;01mif\u001b[39;00m \u001b[38;5;28mself\u001b[39m\u001b[38;5;241m.\u001b[39mreturncode \u001b[38;5;129;01mis\u001b[39;00m \u001b[38;5;129;01mnot\u001b[39;00m \u001b[38;5;28;01mNone\u001b[39;00m:\n\u001b[1;32m   1958\u001b[0m     \u001b[38;5;28;01mbreak\u001b[39;00m  \u001b[38;5;66;03m# Another thread waited.\u001b[39;00m\n\u001b[0;32m-> 1959\u001b[0m (pid, sts) \u001b[38;5;241m=\u001b[39m \u001b[38;5;28;43mself\u001b[39;49m\u001b[38;5;241;43m.\u001b[39;49m\u001b[43m_try_wait\u001b[49m\u001b[43m(\u001b[49m\u001b[38;5;241;43m0\u001b[39;49m\u001b[43m)\u001b[49m\n\u001b[1;32m   1960\u001b[0m \u001b[38;5;66;03m# Check the pid and loop as waitpid has been known to\u001b[39;00m\n\u001b[1;32m   1961\u001b[0m \u001b[38;5;66;03m# return 0 even without WNOHANG in odd situations.\u001b[39;00m\n\u001b[1;32m   1962\u001b[0m \u001b[38;5;66;03m# http://bugs.python.org/issue14396.\u001b[39;00m\n\u001b[1;32m   1963\u001b[0m \u001b[38;5;28;01mif\u001b[39;00m pid \u001b[38;5;241m==\u001b[39m \u001b[38;5;28mself\u001b[39m\u001b[38;5;241m.\u001b[39mpid:\n",
      "File \u001b[0;32m/usr/lib/python3.10/subprocess.py:1917\u001b[0m, in \u001b[0;36mPopen._try_wait\u001b[0;34m(self, wait_flags)\u001b[0m\n\u001b[1;32m   1915\u001b[0m \u001b[38;5;250m\u001b[39m\u001b[38;5;124;03m\"\"\"All callers to this function MUST hold self._waitpid_lock.\"\"\"\u001b[39;00m\n\u001b[1;32m   1916\u001b[0m \u001b[38;5;28;01mtry\u001b[39;00m:\n\u001b[0;32m-> 1917\u001b[0m     (pid, sts) \u001b[38;5;241m=\u001b[39m \u001b[43mos\u001b[49m\u001b[38;5;241;43m.\u001b[39;49m\u001b[43mwaitpid\u001b[49m\u001b[43m(\u001b[49m\u001b[38;5;28;43mself\u001b[39;49m\u001b[38;5;241;43m.\u001b[39;49m\u001b[43mpid\u001b[49m\u001b[43m,\u001b[49m\u001b[43m \u001b[49m\u001b[43mwait_flags\u001b[49m\u001b[43m)\u001b[49m\n\u001b[1;32m   1918\u001b[0m \u001b[38;5;28;01mexcept\u001b[39;00m \u001b[38;5;167;01mChildProcessError\u001b[39;00m:\n\u001b[1;32m   1919\u001b[0m     \u001b[38;5;66;03m# This happens if SIGCLD is set to be ignored or waiting\u001b[39;00m\n\u001b[1;32m   1920\u001b[0m     \u001b[38;5;66;03m# for child processes has otherwise been disabled for our\u001b[39;00m\n\u001b[1;32m   1921\u001b[0m     \u001b[38;5;66;03m# process.  This child is dead, we can't get the status.\u001b[39;00m\n\u001b[1;32m   1922\u001b[0m     pid \u001b[38;5;241m=\u001b[39m \u001b[38;5;28mself\u001b[39m\u001b[38;5;241m.\u001b[39mpid\n",
      "\u001b[0;31mKeyboardInterrupt\u001b[0m: "
     ]
    }
   ],
   "source": [
    "\n",
    "# Initialize the problem\n",
    "problem = LpProblem(\"Itinerary_Optimization\", LpMinimize)\n",
    "\n",
    "# Variables\n",
    "order_vars = {\n",
    "    (poi1, poi2, day): LpVariable(f\"order_{poi1}_{poi2}_{day}\", cat=\"Binary\")\n",
    "    for poi1 in pois + ['nonce_node'] for poi2 in pois + ['nonce_node'] \n",
    "    for day in days if poi1 != poi2\n",
    "}\n",
    "# Objective function: Minimize the total travel time\n",
    "problem += lpSum(\n",
    "    travel_time[(poi_from, poi_to)] * order_vars[(poi_from, poi_to, day)]\n",
    "    for poi_from, poi_to in permutations(pois, 2) for day in days\n",
    ")\n",
    "\n",
    "# Constraints\n",
    "\n",
    "# Each POI visited exactly once across all days\n",
    "for poi in pois:\n",
    "    problem += lpSum(\n",
    "        order_vars[(poi, other_poi, day)] + order_vars[(other_poi, poi, day)]\n",
    "        for day in days for other_poi in pois + ['nonce_node'] if poi != other_poi\n",
    "    ) == 2, f\"enter_and_exit_{poi}\"\n",
    "\n",
    "# Ensure that starting nonce_nodes are visited n_days times\n",
    "problem += lpSum(order_vars[('nonce_node', poi, day)] \n",
    "                 for poi in pois for day in days) == n_days, \"start_nonce\"\n",
    "\n",
    "# Ensure that ending nonce_nodes are visited n_days times\n",
    "problem += lpSum(order_vars[(poi, 'nonce_node', day)] \n",
    "                 for poi in pois for day in days) == n_days, \"end_nonce\"\n",
    "\n",
    "for day in days:\n",
    "    problem += lpSum(\n",
    "        order_vars[('nonce_node', poi, day)] \n",
    "        for poi in pois) == 1, f\"start_nonce_{day}\"\n",
    "    problem += lpSum(\n",
    "        order_vars[(poi, 'nonce_node', day)] \n",
    "        for poi in pois) == 1, f\"end_nonce_{day}\"\n",
    "\n",
    "\n",
    "# Ensure entering and exiting each POI occurs within the same day\n",
    "for day in days:\n",
    "    for poi in pois:\n",
    "        problem += lpSum(\n",
    "            order_vars[(poi, other_poi, day)]\n",
    "            for other_poi in pois + ['nonce_node'] if poi != other_poi\n",
    "        ) == lpSum(\n",
    "            order_vars[(other_poi, poi, day)]\n",
    "            for other_poi in pois + ['nonce_node'] if poi != other_poi\n",
    "        ), f\"same_day_visit_{poi}_{day}\"\n",
    "\n",
    "\n",
    "# problem\n",
    "# Solve the problem\n",
    "status = problem.solve(GLPK_CMD(msg=0))\n",
    "\n",
    "# Check the status and print the results\n",
    "if LpStatus[status] == 'Optimal':\n",
    "    print(\"Solution Found:\\n\")\n",
    "    results = []\n",
    "    for var in order_vars:\n",
    "        if order_vars[var].varValue == 1:\n",
    "            results.append(var)\n",
    "            print(f\"{var} = {order_vars[var].varValue}\")\n",
    "else:\n",
    "    print(\"No optimal solution found.\")\n"
   ]
  }
 ],
 "metadata": {
  "kernelspec": {
   "display_name": "Python 3",
   "language": "python",
   "name": "python3"
  },
  "language_info": {
   "codemirror_mode": {
    "name": "ipython",
    "version": 3
   },
   "file_extension": ".py",
   "mimetype": "text/x-python",
   "name": "python",
   "nbconvert_exporter": "python",
   "pygments_lexer": "ipython3",
   "version": "3.10.12"
  }
 },
 "nbformat": 4,
 "nbformat_minor": 2
}
