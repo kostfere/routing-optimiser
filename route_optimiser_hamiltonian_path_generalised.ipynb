{
 "cells": [
  {
   "cell_type": "code",
   "execution_count": 1,
   "metadata": {},
   "outputs": [
    {
     "name": "stdout",
     "output_type": "stream",
     "text": [
      "Defaulting to user installation because normal site-packages is not writeable\n",
      "Requirement already satisfied: pulp in /home/veleref/.local/lib/python3.10/site-packages (2.8.0)\n"
     ]
    }
   ],
   "source": [
    "!pip install pulp"
   ]
  },
  {
   "cell_type": "code",
   "execution_count": 11,
   "metadata": {},
   "outputs": [],
   "source": [
    "import random\n",
    "from itertools import permutations\n",
    "from pulp import LpProblem, LpVariable, LpStatus, LpMinimize, lpSum\n",
    "from typing import Dict, List, Tuple\n",
    "from pulp import GLPK_CMD\n",
    "\n",
    "def generate_dummy_data(n_pois: int, n_days: int) -> tuple:\n",
    "    \"\"\"\n",
    "    Generate dummy data for the itinerary optimization problem.\n",
    "\n",
    "    Parameters:\n",
    "    - n_pois: The number of points of interest (POIs).\n",
    "    - n_days: The number of days.\n",
    "\n",
    "    Returns:\n",
    "    - pois: A list of POI names.\n",
    "    - days: A list of day identifiers.\n",
    "    - travel_time: A dictionary with travel times between each pair of POIs.\n",
    "    \"\"\"\n",
    "    pois = [f'poi_{i}' for i in range(n_pois)]\n",
    "    days = [f'D{day}' for day in range(1, n_days + 1)]\n",
    "    travel_time = {(poi1, poi2): random.randint(10, 60) for poi1, poi2 in permutations(pois, 2)}\n",
    "    return pois, days, travel_time\n",
    "\n",
    "\n",
    "\n",
    "def extract_itinerary(nodes):\n",
    "    # Step 1: Group nodes by day\n",
    "    day_edges = {}\n",
    "    for node in nodes:\n",
    "        poi1, poi2, day = node\n",
    "        if day not in day_edges:\n",
    "            day_edges[day] = []\n",
    "        day_edges[day].append((poi1, poi2))\n",
    "    \n",
    "    itineraries = {}\n",
    "    # Step 2: Construct the graph for each day and find the path\n",
    "    for day, edges in day_edges.items():\n",
    "        graph = {}\n",
    "        in_degree = {}  # Track incoming edges\n",
    "        for poi1, poi2 in edges:\n",
    "            graph[poi1] = poi2\n",
    "            # Update in_degree counts\n",
    "            in_degree[poi2] = in_degree.get(poi2, 0) + 1\n",
    "            if poi1 not in in_degree:\n",
    "                in_degree[poi1] = 0\n",
    "        \n",
    "        # Step 3: Find the starting POI (no incoming edges) and construct the itinerary\n",
    "        start_poi = None\n",
    "        for poi, in_deg in in_degree.items():\n",
    "            if in_deg == 0:\n",
    "                start_poi = poi\n",
    "                break\n",
    "        \n",
    "        itinerary = [start_poi]\n",
    "        while start_poi in graph:\n",
    "            next_poi = graph[start_poi]\n",
    "            itinerary.append(next_poi)\n",
    "            start_poi = next_poi\n",
    "        \n",
    "        itineraries[day] = itinerary\n",
    "    \n",
    "    return itineraries"
   ]
  },
  {
   "cell_type": "code",
   "execution_count": 42,
   "metadata": {},
   "outputs": [
    {
     "data": {
      "text/plain": [
       "['nonce_node_0', 'nonce_node_1']"
      ]
     },
     "execution_count": 42,
     "metadata": {},
     "output_type": "execute_result"
    }
   ],
   "source": [
    "\n",
    "nonce_nodes"
   ]
  },
  {
   "cell_type": "code",
   "execution_count": 43,
   "metadata": {},
   "outputs": [
    {
     "ename": "KeyError",
     "evalue": "('nonce_node', 'poi_0', 'D1')",
     "output_type": "error",
     "traceback": [
      "\u001b[0;31m---------------------------------------------------------------------------\u001b[0m",
      "\u001b[0;31mKeyError\u001b[0m                                  Traceback (most recent call last)",
      "Cell \u001b[0;32mIn[43], line 35\u001b[0m\n\u001b[1;32m     29\u001b[0m     problem \u001b[38;5;241m+\u001b[39m\u001b[38;5;241m=\u001b[39m lpSum(\n\u001b[1;32m     30\u001b[0m         order_vars[(poi, other_poi, day)] \u001b[38;5;241m+\u001b[39m order_vars[(other_poi, poi, day)]\n\u001b[1;32m     31\u001b[0m         \u001b[38;5;28;01mfor\u001b[39;00m day \u001b[38;5;129;01min\u001b[39;00m days \u001b[38;5;28;01mfor\u001b[39;00m other_poi \u001b[38;5;129;01min\u001b[39;00m pois \u001b[38;5;241m+\u001b[39m nonce_nodes \u001b[38;5;28;01mif\u001b[39;00m poi \u001b[38;5;241m!=\u001b[39m other_poi\n\u001b[1;32m     32\u001b[0m     ) \u001b[38;5;241m==\u001b[39m \u001b[38;5;241m2\u001b[39m, \u001b[38;5;124mf\u001b[39m\u001b[38;5;124m\"\u001b[39m\u001b[38;5;124menter_and_exit_\u001b[39m\u001b[38;5;132;01m{\u001b[39;00mpoi\u001b[38;5;132;01m}\u001b[39;00m\u001b[38;5;124m\"\u001b[39m\n\u001b[1;32m     34\u001b[0m \u001b[38;5;66;03m# Ensure that starting nonce_nodes are visited n_days times\u001b[39;00m\n\u001b[0;32m---> 35\u001b[0m problem \u001b[38;5;241m+\u001b[39m\u001b[38;5;241m=\u001b[39m \u001b[43mlpSum\u001b[49m\u001b[43m(\u001b[49m\u001b[43morder_vars\u001b[49m\u001b[43m[\u001b[49m\u001b[43m(\u001b[49m\u001b[38;5;124;43m'\u001b[39;49m\u001b[38;5;124;43mnonce_node\u001b[39;49m\u001b[38;5;124;43m'\u001b[39;49m\u001b[43m,\u001b[49m\u001b[43m \u001b[49m\u001b[43mpoi\u001b[49m\u001b[43m,\u001b[49m\u001b[43m \u001b[49m\u001b[43mday\u001b[49m\u001b[43m)\u001b[49m\u001b[43m]\u001b[49m\u001b[43m \u001b[49m\n\u001b[1;32m     36\u001b[0m \u001b[43m                 \u001b[49m\u001b[38;5;28;43;01mfor\u001b[39;49;00m\u001b[43m \u001b[49m\u001b[43mpoi\u001b[49m\u001b[43m \u001b[49m\u001b[38;5;129;43;01min\u001b[39;49;00m\u001b[43m \u001b[49m\u001b[43mpois\u001b[49m\u001b[43m \u001b[49m\u001b[38;5;28;43;01mfor\u001b[39;49;00m\u001b[43m \u001b[49m\u001b[43mday\u001b[49m\u001b[43m \u001b[49m\u001b[38;5;129;43;01min\u001b[39;49;00m\u001b[43m \u001b[49m\u001b[43mdays\u001b[49m\u001b[43m)\u001b[49m \u001b[38;5;241m==\u001b[39m n_days, \u001b[38;5;124m\"\u001b[39m\u001b[38;5;124mstart_nonce\u001b[39m\u001b[38;5;124m\"\u001b[39m\n\u001b[1;32m     38\u001b[0m \u001b[38;5;66;03m# Ensure that ending nonce_nodes are visited n_days times\u001b[39;00m\n\u001b[1;32m     39\u001b[0m problem \u001b[38;5;241m+\u001b[39m\u001b[38;5;241m=\u001b[39m lpSum(order_vars[(poi, \u001b[38;5;124m'\u001b[39m\u001b[38;5;124mnonce_node\u001b[39m\u001b[38;5;124m'\u001b[39m, day)] \n\u001b[1;32m     40\u001b[0m                  \u001b[38;5;28;01mfor\u001b[39;00m poi \u001b[38;5;129;01min\u001b[39;00m pois \u001b[38;5;28;01mfor\u001b[39;00m day \u001b[38;5;129;01min\u001b[39;00m days) \u001b[38;5;241m==\u001b[39m n_days, \u001b[38;5;124m\"\u001b[39m\u001b[38;5;124mend_nonce\u001b[39m\u001b[38;5;124m\"\u001b[39m\n",
      "File \u001b[0;32m~/.local/lib/python3.10/site-packages/pulp/pulp.py:2249\u001b[0m, in \u001b[0;36mlpSum\u001b[0;34m(vector)\u001b[0m\n\u001b[1;32m   2243\u001b[0m \u001b[38;5;28;01mdef\u001b[39;00m \u001b[38;5;21mlpSum\u001b[39m(vector):\n\u001b[1;32m   2244\u001b[0m \u001b[38;5;250m    \u001b[39m\u001b[38;5;124;03m\"\"\"\u001b[39;00m\n\u001b[1;32m   2245\u001b[0m \u001b[38;5;124;03m    Calculate the sum of a list of linear expressions\u001b[39;00m\n\u001b[1;32m   2246\u001b[0m \n\u001b[1;32m   2247\u001b[0m \u001b[38;5;124;03m    :param vector: A list of linear expressions\u001b[39;00m\n\u001b[1;32m   2248\u001b[0m \u001b[38;5;124;03m    \"\"\"\u001b[39;00m\n\u001b[0;32m-> 2249\u001b[0m     \u001b[38;5;28;01mreturn\u001b[39;00m \u001b[43mLpAffineExpression\u001b[49m\u001b[43m(\u001b[49m\u001b[43m)\u001b[49m\u001b[38;5;241;43m.\u001b[39;49m\u001b[43maddInPlace\u001b[49m\u001b[43m(\u001b[49m\u001b[43mvector\u001b[49m\u001b[43m)\u001b[49m\n",
      "File \u001b[0;32m~/.local/lib/python3.10/site-packages/pulp/pulp.py:860\u001b[0m, in \u001b[0;36mLpAffineExpression.addInPlace\u001b[0;34m(self, other)\u001b[0m\n\u001b[1;32m    858\u001b[0m         \u001b[38;5;28mself\u001b[39m\u001b[38;5;241m.\u001b[39maddInPlace(e)\n\u001b[1;32m    859\u001b[0m \u001b[38;5;28;01melif\u001b[39;00m \u001b[38;5;28misinstance\u001b[39m(other, \u001b[38;5;28mlist\u001b[39m) \u001b[38;5;129;01mor\u001b[39;00m \u001b[38;5;28misinstance\u001b[39m(other, Iterable):\n\u001b[0;32m--> 860\u001b[0m     \u001b[38;5;28;01mfor\u001b[39;00m e \u001b[38;5;129;01min\u001b[39;00m other:\n\u001b[1;32m    861\u001b[0m         \u001b[38;5;28mself\u001b[39m\u001b[38;5;241m.\u001b[39maddInPlace(e)\n\u001b[1;32m    862\u001b[0m \u001b[38;5;28;01melse\u001b[39;00m:\n",
      "Cell \u001b[0;32mIn[43], line 35\u001b[0m, in \u001b[0;36m<genexpr>\u001b[0;34m(.0)\u001b[0m\n\u001b[1;32m     29\u001b[0m     problem \u001b[38;5;241m+\u001b[39m\u001b[38;5;241m=\u001b[39m lpSum(\n\u001b[1;32m     30\u001b[0m         order_vars[(poi, other_poi, day)] \u001b[38;5;241m+\u001b[39m order_vars[(other_poi, poi, day)]\n\u001b[1;32m     31\u001b[0m         \u001b[38;5;28;01mfor\u001b[39;00m day \u001b[38;5;129;01min\u001b[39;00m days \u001b[38;5;28;01mfor\u001b[39;00m other_poi \u001b[38;5;129;01min\u001b[39;00m pois \u001b[38;5;241m+\u001b[39m nonce_nodes \u001b[38;5;28;01mif\u001b[39;00m poi \u001b[38;5;241m!=\u001b[39m other_poi\n\u001b[1;32m     32\u001b[0m     ) \u001b[38;5;241m==\u001b[39m \u001b[38;5;241m2\u001b[39m, \u001b[38;5;124mf\u001b[39m\u001b[38;5;124m\"\u001b[39m\u001b[38;5;124menter_and_exit_\u001b[39m\u001b[38;5;132;01m{\u001b[39;00mpoi\u001b[38;5;132;01m}\u001b[39;00m\u001b[38;5;124m\"\u001b[39m\n\u001b[1;32m     34\u001b[0m \u001b[38;5;66;03m# Ensure that starting nonce_nodes are visited n_days times\u001b[39;00m\n\u001b[0;32m---> 35\u001b[0m problem \u001b[38;5;241m+\u001b[39m\u001b[38;5;241m=\u001b[39m lpSum(\u001b[43morder_vars\u001b[49m\u001b[43m[\u001b[49m\u001b[43m(\u001b[49m\u001b[38;5;124;43m'\u001b[39;49m\u001b[38;5;124;43mnonce_node\u001b[39;49m\u001b[38;5;124;43m'\u001b[39;49m\u001b[43m,\u001b[49m\u001b[43m \u001b[49m\u001b[43mpoi\u001b[49m\u001b[43m,\u001b[49m\u001b[43m \u001b[49m\u001b[43mday\u001b[49m\u001b[43m)\u001b[49m\u001b[43m]\u001b[49m \n\u001b[1;32m     36\u001b[0m                  \u001b[38;5;28;01mfor\u001b[39;00m poi \u001b[38;5;129;01min\u001b[39;00m pois \u001b[38;5;28;01mfor\u001b[39;00m day \u001b[38;5;129;01min\u001b[39;00m days) \u001b[38;5;241m==\u001b[39m n_days, \u001b[38;5;124m\"\u001b[39m\u001b[38;5;124mstart_nonce\u001b[39m\u001b[38;5;124m\"\u001b[39m\n\u001b[1;32m     38\u001b[0m \u001b[38;5;66;03m# Ensure that ending nonce_nodes are visited n_days times\u001b[39;00m\n\u001b[1;32m     39\u001b[0m problem \u001b[38;5;241m+\u001b[39m\u001b[38;5;241m=\u001b[39m lpSum(order_vars[(poi, \u001b[38;5;124m'\u001b[39m\u001b[38;5;124mnonce_node\u001b[39m\u001b[38;5;124m'\u001b[39m, day)] \n\u001b[1;32m     40\u001b[0m                  \u001b[38;5;28;01mfor\u001b[39;00m poi \u001b[38;5;129;01min\u001b[39;00m pois \u001b[38;5;28;01mfor\u001b[39;00m day \u001b[38;5;129;01min\u001b[39;00m days) \u001b[38;5;241m==\u001b[39m n_days, \u001b[38;5;124m\"\u001b[39m\u001b[38;5;124mend_nonce\u001b[39m\u001b[38;5;124m\"\u001b[39m\n",
      "\u001b[0;31mKeyError\u001b[0m: ('nonce_node', 'poi_0', 'D1')"
     ]
    }
   ],
   "source": [
    "# Initialize data\n",
    "n_pois = 5  # Number of POIs\n",
    "n_days = 2  # Number of days\n",
    "pois, days, travel_time = generate_dummy_data(n_pois, n_days)\n",
    "\n",
    "\n",
    "n_nonce_nodes = 2 # random.randint(2, 3)\n",
    "nonce_nodes = [f\"nonce_node_{str(i)}\" for i in range(n_nonce_nodes)]\n",
    "\n",
    "# Initialize the problem\n",
    "problem = LpProblem(\"Itinerary_Optimization\", LpMinimize)\n",
    "\n",
    "# Variables\n",
    "order_vars = {\n",
    "    (poi1, poi2, day): LpVariable(f\"order_{poi1}_{poi2}_{day}\", cat=\"Binary\")\n",
    "    for poi1 in pois + nonce_nodes for poi2 in pois + nonce_nodes \n",
    "    for day in days if poi1 != poi2\n",
    "}\n",
    "# Objective function: Minimize the total travel time\n",
    "problem += lpSum(\n",
    "    travel_time[(poi_from, poi_to)] * order_vars[(poi_from, poi_to, day)]\n",
    "    for poi_from, poi_to in permutations(pois, 2) for day in days\n",
    ")\n",
    "\n",
    "# Constraints\n",
    "\n",
    "# Each POI visited exactly once across all days\n",
    "for poi in pois:\n",
    "    problem += lpSum(\n",
    "        order_vars[(poi, other_poi, day)] + order_vars[(other_poi, poi, day)]\n",
    "        for day in days for other_poi in pois + nonce_nodes if poi != other_poi\n",
    "    ) == 2, f\"enter_and_exit_{poi}\"\n",
    "\n",
    "# Ensure that starting nonce_nodes are visited n_days times\n",
    "problem += lpSum(order_vars[(nonce_node, poi, day)] \n",
    "                 for poi in pois for day in days\n",
    "                 for nonce_node in nonce_nodes) == n_days, \"start_nonce\"\n",
    "\n",
    "# Ensure that ending nonce_nodes are visited n_days times\n",
    "problem += lpSum(order_vars[(poi, nonce_node, day)] \n",
    "                 for poi in pois for day in days\n",
    "                 for nonce_node in nonce_nodes) == n_days, \"end_nonce\"\n",
    "\n",
    "for day in days:\n",
    "    problem += lpSum(\n",
    "        order_vars[('nonce_node', poi, day)] \n",
    "        for poi in pois) == 1, f\"start_nonce_{day}\"\n",
    "    \n",
    "    problem += lpSum(\n",
    "        order_vars[(poi, 'nonce_node', day)] \n",
    "        for poi in pois) == 1, f\"end_nonce_{day}\"\n",
    "\n",
    "\n",
    "# Ensure entering and exiting each POI occurs within the same day\n",
    "for day in days:\n",
    "    for poi in pois:\n",
    "        problem += lpSum(\n",
    "            order_vars[(poi, other_poi, day)]\n",
    "            for other_poi in pois + nonce_nodes if poi != other_poi\n",
    "        ) == lpSum(\n",
    "            order_vars[(other_poi, poi, day)]\n",
    "            for other_poi in pois + nonce_nodes if poi != other_poi\n",
    "        ), f\"same_day_visit_{poi}_{day}\"\n",
    "\n",
    "\n",
    "# problem\n",
    "# Solve the problem\n",
    "status = problem.solve(GLPK_CMD(msg=0))\n",
    "\n",
    "# Check the status and print the results\n",
    "if LpStatus[status] == 'Optimal':\n",
    "    print(\"Solution Found:\\n\")\n",
    "    results = []\n",
    "    for var in order_vars:\n",
    "        if order_vars[var].varValue == 1:\n",
    "            results.append(var)\n",
    "            print(f\"{var} = {order_vars[var].varValue}\")\n",
    "else:\n",
    "    print(\"No optimal solution found.\")\n"
   ]
  }
 ],
 "metadata": {
  "kernelspec": {
   "display_name": "Python 3",
   "language": "python",
   "name": "python3"
  },
  "language_info": {
   "codemirror_mode": {
    "name": "ipython",
    "version": 3
   },
   "file_extension": ".py",
   "mimetype": "text/x-python",
   "name": "python",
   "nbconvert_exporter": "python",
   "pygments_lexer": "ipython3",
   "version": "3.10.12"
  }
 },
 "nbformat": 4,
 "nbformat_minor": 2
}
